{
  "nbformat": 4,
  "nbformat_minor": 0,
  "metadata": {
    "colab": {
      "provenance": []
    },
    "kernelspec": {
      "name": "python3",
      "display_name": "Python 3"
    },
    "language_info": {
      "name": "python"
    }
  },
  "cells": [
    {
      "cell_type": "code",
      "execution_count": null,
      "metadata": {
        "colab": {
          "base_uri": "https://localhost:8080/"
        },
        "id": "GOtKj2XSPf58",
        "outputId": "168e9532-e508-44bb-e37f-05c7a9867e68"
      },
      "outputs": [
        {
          "output_type": "stream",
          "name": "stdout",
          "text": [
            "Enter the number: 11\n",
            "11 is  prime\n"
          ]
        }
      ],
      "source": [
        "x=int(input(\"Enter the number: \"))\n",
        "count=0\n",
        "for i in range (1,x+1,1):\n",
        "  if x%i==0:\n",
        "    count+=1\n",
        "if(count==2):\n",
        "   print(f\"{x} is  prime\")\n",
        "else:\n",
        "  print(f\"{x} is not prime\")\n",
        "\n"
      ]
    },
    {
      "cell_type": "code",
      "source": [
        "def fib(n):\n",
        "   if n==0:\n",
        "      return 0\n",
        "   elif n==1:\n",
        "      return 1\n",
        "   else:\n",
        "       return(fib(n-1) + fib(n-2))\n",
        "\n",
        "n = int(input(\"Enter no of terms: \"))\n",
        "print(\"Fibonacci sequence:\")\n",
        "for i in range(n):\n",
        "      print(fib(i))"
      ],
      "metadata": {
        "colab": {
          "base_uri": "https://localhost:8080/"
        },
        "id": "Y-bxl_AZSNHG",
        "outputId": "2a9a62c1-9d7b-4c35-94f0-6029c08d7e28"
      },
      "execution_count": null,
      "outputs": [
        {
          "output_type": "stream",
          "name": "stdout",
          "text": [
            "Enter no of terms: 8\n",
            "Fibonacci sequence:\n",
            "0\n",
            "1\n",
            "1\n",
            "2\n",
            "3\n",
            "5\n",
            "8\n",
            "13\n"
          ]
        }
      ]
    },
    {
      "cell_type": "code",
      "source": [
        "def GCD(a, b):\n",
        "    if b == 0:\n",
        "        return a\n",
        "    else:\n",
        "        return GCD(b, a % b)\n",
        "\n",
        "def LCM(a, b):\n",
        "    return (a * b) // GCD(a, b)\n",
        "\n",
        "num1 = int(input(\"Enter first number: \"))\n",
        "num2 = int(input(\"Enter second number: \"))\n",
        "\n",
        "gcd_result = GCD(num1, num2)\n",
        "lcm_result = LCM(num1, num2)\n",
        "\n",
        "print(f\"GCD of {num1} and {num2} is: {gcd_result}\")\n",
        "print(f\"LCM of {num1} and {num2} is: {lcm_result}\")\n",
        "\n"
      ],
      "metadata": {
        "colab": {
          "base_uri": "https://localhost:8080/"
        },
        "id": "WRzIXa3vU4rK",
        "outputId": "1ab39806-f2c5-4f1a-a591-da14e6ef0ded"
      },
      "execution_count": null,
      "outputs": [
        {
          "output_type": "stream",
          "name": "stdout",
          "text": [
            "Enter first number: 12\n",
            "Enter second number: 36\n",
            "GCD of 12 and 36 is: 12\n",
            "LCM of 12 and 36 is: 36\n"
          ]
        }
      ]
    },
    {
      "cell_type": "code",
      "source": [
        "def ADD(a,b):\n",
        "    return a+b\n",
        "def SUBTRACT(a,b):\n",
        "    return a-b\n",
        "def MULTIPLY(a,b):\n",
        "  if(b==0):\n",
        "    return Undefined\n",
        "  else:\n",
        "    return a*b\n",
        "def DIVISION(a,b):\n",
        "    return a/b\n",
        "num1 = int(input(\"Enter first number: \"))\n",
        "num2 = int(input(\"Enter second number: \"))\n",
        "Addition=ADD(num1,num2)\n",
        "Subtraction=SUBTRACT(num1,num2)\n",
        "Multiplication=MULTIPLY(num1,num2)\n",
        "Divide=DIVISION(num1,num2)\n",
        "print(f\"Sum of {num1} and {num2} is:{Addition}\")\n",
        "print(f\"Subtraction of {num1} and {num2} is:{Subtraction}\")\n",
        "print(f\"Multiplication of {num1} and {num2} is:{Multiplication}\")\n",
        "print(f\"Division of {num1} and {num2} is:{Divide}\")\n",
        "\n"
      ],
      "metadata": {
        "colab": {
          "base_uri": "https://localhost:8080/"
        },
        "id": "w48PU06gZJjG",
        "outputId": "bcf3c9f6-9107-41a4-d74c-70b29f4a8115"
      },
      "execution_count": null,
      "outputs": [
        {
          "output_type": "stream",
          "name": "stdout",
          "text": [
            "Enter first number: 12\n",
            "Enter second number: 2\n",
            "Sum of 12 and 2 is:14\n",
            "Subtraction of 12 and 2 is:10\n",
            "Multiplication of 12 and 2 is:24\n",
            "Division of 12 and 2 is:6.0\n"
          ]
        }
      ]
    },
    {
      "cell_type": "code",
      "source": [
        "\n",
        "new_dict = {}\n",
        "new_dict[\"college\"] = \"VNR\"\n",
        "new_dict[\"branch\"] = \"CSE\"\n",
        "new_dict[\"Year\"] = 1\n",
        "new_dict[\"Semester\"] = 2\n",
        "new_dict[\"Subject\"] = \"Python\"\n",
        "print(\"Dictionary contents:\")\n",
        "for key, value in new_dict.items():\n",
        "    print(f\"{key}: {value}\")\n"
      ],
      "metadata": {
        "colab": {
          "base_uri": "https://localhost:8080/"
        },
        "id": "ejn1Hkx7cjJW",
        "outputId": "17527fd4-5db8-4435-c11a-6fe8ba551691"
      },
      "execution_count": null,
      "outputs": [
        {
          "output_type": "stream",
          "name": "stdout",
          "text": [
            "Dictionary contents:\n",
            "college: VNR\n",
            "branch: CSE\n",
            "Year: 1\n",
            "Semester: 2\n",
            "Subject: Python\n"
          ]
        }
      ]
    },
    {
      "cell_type": "code",
      "source": [
        "a = [1, 2, 2, 3, 4, 4, 5]\n",
        "a = list(set(a))\n",
        "\n",
        "print(a)"
      ],
      "metadata": {
        "colab": {
          "base_uri": "https://localhost:8080/"
        },
        "id": "kBmC98MOewbM",
        "outputId": "17962dbd-3a40-46c7-f3d5-a5d6eafa2a0a"
      },
      "execution_count": null,
      "outputs": [
        {
          "output_type": "stream",
          "name": "stdout",
          "text": [
            "[1, 2, 3, 4, 5]\n"
          ]
        }
      ]
    },
    {
      "cell_type": "markdown",
      "source": [],
      "metadata": {
        "id": "HrJg01LkU60X"
      }
    }
  ]
}